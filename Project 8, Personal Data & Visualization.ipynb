{
 "cells": [
  {
   "cell_type": "markdown",
   "id": "be519660",
   "metadata": {},
   "source": [
    "# Project 8: Personal Data & Visualization\n",
    "\n",
    "## Your name: Ruth Iiyambo \n",
    "\n",
    "### Your collaborators: Class TA\n",
    "\n",
    "### Your sources: https://pandas.pydata.org/docs/reference/api/pandas.to_datetime.html, https://pandas.pydata.org/docs/reference/api/pandas.DataFrame.diff.html, https://pandas.pydata.org/docs/reference/api/pandas.Timestamp.html#pandas.Timestamp, https://pandas.pydata.org/docs/reference/api/pandas.DatetimeIndex.html,      \n",
    "\n",
    "Due date: Sunday November 19 at 11:59 pm"
   ]
  },
  {
   "cell_type": "code",
   "execution_count": 1,
   "id": "6dbfb87b",
   "metadata": {},
   "outputs": [],
   "source": [
    "# Import the packages we need\n",
    "\n",
    "# Handling dates and times\n",
    "from datetime import datetime\n",
    "from matplotlib import pyplot as plt\n",
    "\n",
    "# DataFrames!\n",
    "import pandas as pd\n",
    "import numpy as npe\n",
    "import seaborn as sns"
   ]
  },
  {
   "cell_type": "code",
   "execution_count": 2,
   "id": "f7ce9d76",
   "metadata": {},
   "outputs": [
    {
     "data": {
      "text/html": [
       "<div>\n",
       "<style scoped>\n",
       "    .dataframe tbody tr th:only-of-type {\n",
       "        vertical-align: middle;\n",
       "    }\n",
       "\n",
       "    .dataframe tbody tr th {\n",
       "        vertical-align: top;\n",
       "    }\n",
       "\n",
       "    .dataframe thead th {\n",
       "        text-align: right;\n",
       "    }\n",
       "</style>\n",
       "<table border=\"1\" class=\"dataframe\">\n",
       "  <thead>\n",
       "    <tr style=\"text-align: right;\">\n",
       "      <th></th>\n",
       "      <th>Unnamed: 0</th>\n",
       "      <th>endTime</th>\n",
       "    </tr>\n",
       "  </thead>\n",
       "  <tbody>\n",
       "    <tr>\n",
       "      <th>0</th>\n",
       "      <td>0</td>\n",
       "      <td>2022-10-18 01:12</td>\n",
       "    </tr>\n",
       "    <tr>\n",
       "      <th>1</th>\n",
       "      <td>1</td>\n",
       "      <td>2022-10-18 01:15</td>\n",
       "    </tr>\n",
       "    <tr>\n",
       "      <th>2</th>\n",
       "      <td>2</td>\n",
       "      <td>2022-10-18 01:19</td>\n",
       "    </tr>\n",
       "    <tr>\n",
       "      <th>3</th>\n",
       "      <td>3</td>\n",
       "      <td>2022-10-18 01:23</td>\n",
       "    </tr>\n",
       "    <tr>\n",
       "      <th>4</th>\n",
       "      <td>4</td>\n",
       "      <td>2022-10-18 16:58</td>\n",
       "    </tr>\n",
       "    <tr>\n",
       "      <th>...</th>\n",
       "      <td>...</td>\n",
       "      <td>...</td>\n",
       "    </tr>\n",
       "    <tr>\n",
       "      <th>19954</th>\n",
       "      <td>9954</td>\n",
       "      <td>2023-10-18 19:42</td>\n",
       "    </tr>\n",
       "    <tr>\n",
       "      <th>19955</th>\n",
       "      <td>9955</td>\n",
       "      <td>2023-10-18 19:42</td>\n",
       "    </tr>\n",
       "    <tr>\n",
       "      <th>19956</th>\n",
       "      <td>9956</td>\n",
       "      <td>2023-10-18 19:45</td>\n",
       "    </tr>\n",
       "    <tr>\n",
       "      <th>19957</th>\n",
       "      <td>9957</td>\n",
       "      <td>2023-10-18 19:48</td>\n",
       "    </tr>\n",
       "    <tr>\n",
       "      <th>19958</th>\n",
       "      <td>9958</td>\n",
       "      <td>2023-10-18 19:52</td>\n",
       "    </tr>\n",
       "  </tbody>\n",
       "</table>\n",
       "<p>19959 rows × 2 columns</p>\n",
       "</div>"
      ],
      "text/plain": [
       "       Unnamed: 0           endTime\n",
       "0               0  2022-10-18 01:12\n",
       "1               1  2022-10-18 01:15\n",
       "2               2  2022-10-18 01:19\n",
       "3               3  2022-10-18 01:23\n",
       "4               4  2022-10-18 16:58\n",
       "...           ...               ...\n",
       "19954        9954  2023-10-18 19:42\n",
       "19955        9955  2023-10-18 19:42\n",
       "19956        9956  2023-10-18 19:45\n",
       "19957        9957  2023-10-18 19:48\n",
       "19958        9958  2023-10-18 19:52\n",
       "\n",
       "[19959 rows x 2 columns]"
      ]
     },
     "execution_count": 2,
     "metadata": {},
     "output_type": "execute_result"
    }
   ],
   "source": [
    "Aud_data = pd.read_csv('audrey_timestamps.csv')\n",
    "Aud_data"
   ]
  },
  {
   "cell_type": "markdown",
   "id": "35f904df",
   "metadata": {},
   "source": [
    "### 1. The timestamp is in the datetime format"
   ]
  },
  {
   "cell_type": "code",
   "execution_count": 3,
   "id": "81ad8d62",
   "metadata": {},
   "outputs": [
    {
     "data": {
      "text/plain": [
       "0       2022-10-18 01:12:00\n",
       "1       2022-10-18 01:15:00\n",
       "2       2022-10-18 01:19:00\n",
       "3       2022-10-18 01:23:00\n",
       "4       2022-10-18 16:58:00\n",
       "                ...        \n",
       "19954   2023-10-18 19:42:00\n",
       "19955   2023-10-18 19:42:00\n",
       "19956   2023-10-18 19:45:00\n",
       "19957   2023-10-18 19:48:00\n",
       "19958   2023-10-18 19:52:00\n",
       "Name: time, Length: 19959, dtype: datetime64[ns]"
      ]
     },
     "execution_count": 3,
     "metadata": {},
     "output_type": "execute_result"
    }
   ],
   "source": [
    "Aud_data['time'] = pd.to_datetime(Aud_data['endTime'])\n",
    "Aud_data['time'] "
   ]
  },
  {
   "cell_type": "markdown",
   "id": "b076efe5",
   "metadata": {},
   "source": [
    "### 2. Using pandas.diff() , make a new column that tells you the time since between a timestamp and the previous one \n",
    "\n",
    "(for example, row 2 will have the time between the timestamp in row 2 and row 1).(TIP: Make sure your timestamps are sorted in chronological order before you do this!)"
   ]
  },
  {
   "cell_type": "code",
   "execution_count": 4,
   "id": "16112990",
   "metadata": {},
   "outputs": [
    {
     "data": {
      "text/plain": [
       "0                   NaT\n",
       "1       0 days 00:03:00\n",
       "2       0 days 00:04:00\n",
       "3       0 days 00:04:00\n",
       "4       0 days 15:35:00\n",
       "              ...      \n",
       "19954   0 days 00:02:00\n",
       "19955   0 days 00:00:00\n",
       "19956   0 days 00:03:00\n",
       "19957   0 days 00:03:00\n",
       "19958   0 days 00:04:00\n",
       "Name: end_diff, Length: 19959, dtype: timedelta64[ns]"
      ]
     },
     "execution_count": 4,
     "metadata": {},
     "output_type": "execute_result"
    }
   ],
   "source": [
    "Aud_data['end_diff'] = Aud_data['time'] .diff()\n",
    "Aud_data['end_diff']"
   ]
  },
  {
   "cell_type": "markdown",
   "id": "ded4b2c9",
   "metadata": {},
   "source": [
    "### 3. Answer: What is the longest time between timestamps? What is the average time between timestamps?"
   ]
  },
  {
   "cell_type": "code",
   "execution_count": 5,
   "id": "0fe65f54",
   "metadata": {},
   "outputs": [
    {
     "data": {
      "text/plain": [
       "Timedelta('11 days 04:15:00')"
      ]
     },
     "execution_count": 5,
     "metadata": {},
     "output_type": "execute_result"
    }
   ],
   "source": [
    "Aud_data['end_diff'].max() #longest time between timestamps"
   ]
  },
  {
   "cell_type": "code",
   "execution_count": 6,
   "id": "b78ecf2d",
   "metadata": {},
   "outputs": [
    {
     "data": {
      "text/plain": [
       "Timedelta('0 days 00:26:23.485319170')"
      ]
     },
     "execution_count": 6,
     "metadata": {},
     "output_type": "execute_result"
    }
   ],
   "source": [
    "Aud_data['end_diff'].mean() #average time between timestamps"
   ]
  },
  {
   "cell_type": "markdown",
   "id": "e100924e",
   "metadata": {},
   "source": [
    "For Audrey, the longest time between timestamps is 11 days and the average between two timestamps is 26 minutes 23 seconds "
   ]
  },
  {
   "cell_type": "markdown",
   "id": "16c14810",
   "metadata": {},
   "source": [
    "### 4. Answer: What is the day with the most timestamps? How many events (timestamps) were on that day? \n",
    "\n",
    "(TIP: Once you have done .to_datetime, you now have a Timestamp object, which has all kinds of cool properties and methods -- such as returning the day or the month. Find out more hereLinks to an external site.. You might also want to use DatetimeIndexLinks to an external site.. For example, you can create a new column that is the day by doing: df['days'] = pd.DatetimeIndex(df['timestamps']).day )"
   ]
  },
  {
   "cell_type": "code",
   "execution_count": 7,
   "id": "62b99862",
   "metadata": {},
   "outputs": [
    {
     "data": {
      "text/plain": [
       "2023-04-19    406\n",
       "2023-02-18    343\n",
       "2023-09-02    323\n",
       "2023-05-12    264\n",
       "2023-01-22    226\n",
       "             ... \n",
       "2022-11-24      1\n",
       "2023-08-10      1\n",
       "2023-10-03      1\n",
       "2022-11-18      1\n",
       "2023-08-21      1\n",
       "Name: date, Length: 300, dtype: int64"
      ]
     },
     "execution_count": 7,
     "metadata": {},
     "output_type": "execute_result"
    }
   ],
   "source": [
    "Aud_data[\"date\"]=pd.DatetimeIndex(Aud_data[\"endTime\"]).date\n",
    "Aud_data[\"date\"].value_counts()"
   ]
  },
  {
   "cell_type": "code",
   "execution_count": 8,
   "id": "b9339b18",
   "metadata": {},
   "outputs": [
    {
     "data": {
      "text/plain": [
       "0        01:12:00\n",
       "1        01:15:00\n",
       "2        01:19:00\n",
       "3        01:23:00\n",
       "4        16:58:00\n",
       "           ...   \n",
       "19954    19:42:00\n",
       "19955    19:42:00\n",
       "19956    19:45:00\n",
       "19957    19:48:00\n",
       "19958    19:52:00\n",
       "Name: time, Length: 19959, dtype: object"
      ]
     },
     "execution_count": 8,
     "metadata": {},
     "output_type": "execute_result"
    }
   ],
   "source": [
    "time=Aud_data['time'].dt.time\n",
    "time"
   ]
  },
  {
   "cell_type": "markdown",
   "id": "0484f9db",
   "metadata": {},
   "source": [
    "### 5. Answer: What is the month with the most timestamps? How many events (timestamps) were on that month?"
   ]
  },
  {
   "cell_type": "code",
   "execution_count": 9,
   "id": "2b033ac3",
   "metadata": {},
   "outputs": [
    {
     "data": {
      "text/html": [
       "<div>\n",
       "<style scoped>\n",
       "    .dataframe tbody tr th:only-of-type {\n",
       "        vertical-align: middle;\n",
       "    }\n",
       "\n",
       "    .dataframe tbody tr th {\n",
       "        vertical-align: top;\n",
       "    }\n",
       "\n",
       "    .dataframe thead th {\n",
       "        text-align: right;\n",
       "    }\n",
       "</style>\n",
       "<table border=\"1\" class=\"dataframe\">\n",
       "  <thead>\n",
       "    <tr style=\"text-align: right;\">\n",
       "      <th></th>\n",
       "      <th>Unnamed: 0</th>\n",
       "      <th>endTime</th>\n",
       "      <th>time</th>\n",
       "      <th>end_diff</th>\n",
       "      <th>date</th>\n",
       "      <th>month_year</th>\n",
       "      <th>frequency</th>\n",
       "    </tr>\n",
       "  </thead>\n",
       "  <tbody>\n",
       "    <tr>\n",
       "      <th>0</th>\n",
       "      <td>0</td>\n",
       "      <td>2022-10-18 01:12</td>\n",
       "      <td>2022-10-18 01:12:00</td>\n",
       "      <td>NaT</td>\n",
       "      <td>2022-10-18</td>\n",
       "      <td>10-2022</td>\n",
       "      <td>588</td>\n",
       "    </tr>\n",
       "    <tr>\n",
       "      <th>1</th>\n",
       "      <td>1</td>\n",
       "      <td>2022-10-18 01:15</td>\n",
       "      <td>2022-10-18 01:15:00</td>\n",
       "      <td>0 days 00:03:00</td>\n",
       "      <td>2022-10-18</td>\n",
       "      <td>10-2022</td>\n",
       "      <td>588</td>\n",
       "    </tr>\n",
       "    <tr>\n",
       "      <th>2</th>\n",
       "      <td>2</td>\n",
       "      <td>2022-10-18 01:19</td>\n",
       "      <td>2022-10-18 01:19:00</td>\n",
       "      <td>0 days 00:04:00</td>\n",
       "      <td>2022-10-18</td>\n",
       "      <td>10-2022</td>\n",
       "      <td>588</td>\n",
       "    </tr>\n",
       "    <tr>\n",
       "      <th>3</th>\n",
       "      <td>3</td>\n",
       "      <td>2022-10-18 01:23</td>\n",
       "      <td>2022-10-18 01:23:00</td>\n",
       "      <td>0 days 00:04:00</td>\n",
       "      <td>2022-10-18</td>\n",
       "      <td>10-2022</td>\n",
       "      <td>588</td>\n",
       "    </tr>\n",
       "    <tr>\n",
       "      <th>4</th>\n",
       "      <td>4</td>\n",
       "      <td>2022-10-18 16:58</td>\n",
       "      <td>2022-10-18 16:58:00</td>\n",
       "      <td>0 days 15:35:00</td>\n",
       "      <td>2022-10-18</td>\n",
       "      <td>10-2022</td>\n",
       "      <td>588</td>\n",
       "    </tr>\n",
       "    <tr>\n",
       "      <th>...</th>\n",
       "      <td>...</td>\n",
       "      <td>...</td>\n",
       "      <td>...</td>\n",
       "      <td>...</td>\n",
       "      <td>...</td>\n",
       "      <td>...</td>\n",
       "      <td>...</td>\n",
       "    </tr>\n",
       "    <tr>\n",
       "      <th>19954</th>\n",
       "      <td>9954</td>\n",
       "      <td>2023-10-18 19:42</td>\n",
       "      <td>2023-10-18 19:42:00</td>\n",
       "      <td>0 days 00:02:00</td>\n",
       "      <td>2023-10-18</td>\n",
       "      <td>10-2023</td>\n",
       "      <td>1567</td>\n",
       "    </tr>\n",
       "    <tr>\n",
       "      <th>19955</th>\n",
       "      <td>9955</td>\n",
       "      <td>2023-10-18 19:42</td>\n",
       "      <td>2023-10-18 19:42:00</td>\n",
       "      <td>0 days 00:00:00</td>\n",
       "      <td>2023-10-18</td>\n",
       "      <td>10-2023</td>\n",
       "      <td>1567</td>\n",
       "    </tr>\n",
       "    <tr>\n",
       "      <th>19956</th>\n",
       "      <td>9956</td>\n",
       "      <td>2023-10-18 19:45</td>\n",
       "      <td>2023-10-18 19:45:00</td>\n",
       "      <td>0 days 00:03:00</td>\n",
       "      <td>2023-10-18</td>\n",
       "      <td>10-2023</td>\n",
       "      <td>1567</td>\n",
       "    </tr>\n",
       "    <tr>\n",
       "      <th>19957</th>\n",
       "      <td>9957</td>\n",
       "      <td>2023-10-18 19:48</td>\n",
       "      <td>2023-10-18 19:48:00</td>\n",
       "      <td>0 days 00:03:00</td>\n",
       "      <td>2023-10-18</td>\n",
       "      <td>10-2023</td>\n",
       "      <td>1567</td>\n",
       "    </tr>\n",
       "    <tr>\n",
       "      <th>19958</th>\n",
       "      <td>9958</td>\n",
       "      <td>2023-10-18 19:52</td>\n",
       "      <td>2023-10-18 19:52:00</td>\n",
       "      <td>0 days 00:04:00</td>\n",
       "      <td>2023-10-18</td>\n",
       "      <td>10-2023</td>\n",
       "      <td>1567</td>\n",
       "    </tr>\n",
       "  </tbody>\n",
       "</table>\n",
       "<p>19959 rows × 7 columns</p>\n",
       "</div>"
      ],
      "text/plain": [
       "       Unnamed: 0           endTime                time        end_diff  \\\n",
       "0               0  2022-10-18 01:12 2022-10-18 01:12:00             NaT   \n",
       "1               1  2022-10-18 01:15 2022-10-18 01:15:00 0 days 00:03:00   \n",
       "2               2  2022-10-18 01:19 2022-10-18 01:19:00 0 days 00:04:00   \n",
       "3               3  2022-10-18 01:23 2022-10-18 01:23:00 0 days 00:04:00   \n",
       "4               4  2022-10-18 16:58 2022-10-18 16:58:00 0 days 15:35:00   \n",
       "...           ...               ...                 ...             ...   \n",
       "19954        9954  2023-10-18 19:42 2023-10-18 19:42:00 0 days 00:02:00   \n",
       "19955        9955  2023-10-18 19:42 2023-10-18 19:42:00 0 days 00:00:00   \n",
       "19956        9956  2023-10-18 19:45 2023-10-18 19:45:00 0 days 00:03:00   \n",
       "19957        9957  2023-10-18 19:48 2023-10-18 19:48:00 0 days 00:03:00   \n",
       "19958        9958  2023-10-18 19:52 2023-10-18 19:52:00 0 days 00:04:00   \n",
       "\n",
       "             date month_year  frequency  \n",
       "0      2022-10-18    10-2022        588  \n",
       "1      2022-10-18    10-2022        588  \n",
       "2      2022-10-18    10-2022        588  \n",
       "3      2022-10-18    10-2022        588  \n",
       "4      2022-10-18    10-2022        588  \n",
       "...           ...        ...        ...  \n",
       "19954  2023-10-18    10-2023       1567  \n",
       "19955  2023-10-18    10-2023       1567  \n",
       "19956  2023-10-18    10-2023       1567  \n",
       "19957  2023-10-18    10-2023       1567  \n",
       "19958  2023-10-18    10-2023       1567  \n",
       "\n",
       "[19959 rows x 7 columns]"
      ]
     },
     "execution_count": 9,
     "metadata": {},
     "output_type": "execute_result"
    }
   ],
   "source": [
    "#checking the frequency of the time spent on the app through the dates\n",
    "Aud_data['date']=Aud_data['time'].dt.date\n",
    "Aud_data['month_year'] = pd.to_datetime(Aud_data['date']).dt.strftime('%m-%Y')\n",
    "Aud_data['frequency'] = Aud_data['month_year'].map(Aud_data['month_year'].value_counts())\n",
    "Aud_data"
   ]
  },
  {
   "cell_type": "markdown",
   "id": "a0a17c19",
   "metadata": {},
   "source": [
    "For Audrey, the month with the most timestamps is ---- and the average between two timestamps is ------\n"
   ]
  },
  {
   "cell_type": "markdown",
   "id": "7cf0e3bf",
   "metadata": {},
   "source": [
    "### 6. Analyze: Create at least one visualization of this data, using matplotlib/pyplot or Seaborn (refer back to our earlier class activities on visualizing time series data). \n",
    "\n",
    "What can they tell you about the data?"
   ]
  },
  {
   "cell_type": "code",
   "execution_count": null,
   "id": "895ae6a2",
   "metadata": {},
   "outputs": [],
   "source": [
    "p = sns.color_palette(\"cubehelix\", as_cmap=True)\n",
    "sns.scatterplot(x=\"month_year\", y=\"time\",\n",
    "                hue=\"time\", size=\"frequency\",\n",
    "                palette=\"cubehelix\",\n",
    "                sizes=(10, 80), linewidth=0,\n",
    "                data=Aud_data)\n",
    "py.title(\"Audrey's Spotify TimeStamp Data\")\n",
    "py.legend(bbox_to_anchor=(1.25, 1), borderaxespad=0)"
   ]
  },
  {
   "cell_type": "markdown",
   "id": "f9d723fe",
   "metadata": {},
   "source": [
    "### 7. Answer: What do you think the source of this data is? \n",
    "\n",
    "Write a few sentences explaining your reasoning, as well as what other data might help you verify if you are correct?"
   ]
  },
  {
   "cell_type": "markdown",
   "id": "2aa1a142",
   "metadata": {},
   "source": [
    "### 8. Exchange your analysis with your partner. Read your partner's analysis -- does it seem accurate? \n",
    "\n",
    "Did they guess the correct data source (or type of data source)?"
   ]
  },
  {
   "cell_type": "markdown",
   "id": "16f715dc",
   "metadata": {},
   "source": [
    "### 9. For the days and months that your partner identified as having the most timestamps in your data, try to figure out what was happening on those days. \n",
    "\n",
    "What other data might help you figure this out?"
   ]
  }
 ],
 "metadata": {
  "kernelspec": {
   "display_name": "Python 3 (ipykernel)",
   "language": "python",
   "name": "python3"
  },
  "language_info": {
   "codemirror_mode": {
    "name": "ipython",
    "version": 3
   },
   "file_extension": ".py",
   "mimetype": "text/x-python",
   "name": "python",
   "nbconvert_exporter": "python",
   "pygments_lexer": "ipython3",
   "version": "3.9.13"
  }
 },
 "nbformat": 4,
 "nbformat_minor": 5
}
